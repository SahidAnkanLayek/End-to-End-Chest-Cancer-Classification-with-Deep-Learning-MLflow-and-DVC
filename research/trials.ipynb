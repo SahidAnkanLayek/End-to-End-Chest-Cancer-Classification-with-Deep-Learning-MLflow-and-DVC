{
 "cells": [
  {
   "cell_type": "code",
   "execution_count": null,
   "id": "dfa23b89",
   "metadata": {},
   "outputs": [],
   "source": [
    "def add_two_numbers(a, b):\n",
    "    return a + b"
   ]
  }
 ],
 "metadata": {
  "kernelspec": {
   "display_name": "Python 3",
   "language": "python",
   "name": "python3"
  },
  "language_info": {
   "name": "python",
   "version": "3.13.2"
  }
 },
 "nbformat": 4,
 "nbformat_minor": 5
}
